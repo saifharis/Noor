{
  "nbformat": 4,
  "nbformat_minor": 0,
  "metadata": {
    "colab": {
      "name": "NN_Model",
      "provenance": [],
      "include_colab_link": true
    },
    "kernelspec": {
      "name": "python3",
      "display_name": "Python 3"
    },
    "language_info": {
      "name": "python"
    }
  },
  "cells": [
    {
      "cell_type": "markdown",
      "metadata": {
        "id": "view-in-github",
        "colab_type": "text"
      },
      "source": [
        "<a href=\"https://colab.research.google.com/github/saifharis/Noor/blob/main/NN_Model.ipynb\" target=\"_parent\"><img src=\"https://colab.research.google.com/assets/colab-badge.svg\" alt=\"Open In Colab\"/></a>"
      ]
    },
    {
      "cell_type": "code",
      "metadata": {
        "id": "aGQ3IAh_e8-t"
      },
      "source": [
        "import pandas as pd\n",
        "import numpy as np\n",
        "import matplotlib.pyplot as plt\n",
        "import seaborn as sns\n",
        "from numpy import loadtxt\n",
        "from keras.models import Sequential\n",
        "from keras.layers import Dense, Activation, BatchNormalization\n",
        "import tensorflow as tf\n",
        "from sklearn.model_selection import train_test_split\n",
        "import pandas as pd\n",
        "import numpy as np\n",
        "import matplotlib.pyplot as plt\n",
        "import seaborn as sns\n",
        "from sklearn.impute import SimpleImputer \n",
        "from sklearn.model_selection import train_test_split\n",
        "from keras.layers import Dense\n",
        "from keras.models import Sequential \n",
        "from sklearn.metrics import mean_squared_error\n",
        "import matplotlib.pyplot as plt\n",
        "from keras.callbacks import EarlyStopping\n",
        "from sklearn.preprocessing import scale\n",
        "from keras.layers import BatchNormalization\n",
        "from keras.regularizers import l1,l2,l1_l2\n",
        "from keras import optimizers\n",
        "from sklearn.linear_model import Lasso\n",
        "from sklearn.decomposition import PCA\n",
        "import random\n"
      ],
      "execution_count": null,
      "outputs": []
    },
    {
      "cell_type": "code",
      "metadata": {
        "colab": {
          "base_uri": "https://localhost:8080/"
        },
        "id": "8mITtAkfe_EE",
        "outputId": "1df94ad0-6b20-4966-c667-aa639d49401a"
      },
      "source": [
        "# load the dataset\n",
        "dataset =np.loadtxt('UN_nn_model.csv', delimiter=';')\n",
        "# split into input (X) and output (y) variables\n",
        "X = dataset[:,0:7]\n",
        "y = dataset[:,7:10]\n",
        "print(X,y)"
      ],
      "execution_count": null,
      "outputs": [
        {
          "output_type": "stream",
          "text": [
            "[[-1.50200000e+00  1.44700000e+01  4.87271800e+00  2.18000000e+02\n",
            "   7.90000000e+01  2.11457026e+02  3.40000000e-01]\n",
            " [-1.87200000e+00  7.10000000e+00  4.61762400e+00  2.47000000e+02\n",
            "   1.42000000e+02  3.57492639e+02  3.30000000e-01]\n",
            " [-1.47800000e+00  1.42000000e+01  4.94138932e+00  1.54000000e+02\n",
            "   9.10000000e+01  2.28075949e+02  2.50000000e-01]\n",
            " [-1.30600000e+00  1.44470000e+01  4.86867200e+00  1.45000000e+02\n",
            "   8.00000000e+01  2.02718447e+02  2.70000000e-01]\n",
            " [-1.16300000e+00  6.15000000e+00  4.12493000e+00  3.19000000e+02\n",
            "   1.65000000e+02  4.22205882e+02  2.79411765e-01]\n",
            " [-6.55000000e-01  6.15000000e+00  4.14728469e+00  1.81000000e+02\n",
            "   8.70000000e+01  2.24957143e+02  2.92857143e-01]\n",
            " [-1.03400000e+00  1.49700000e+01  4.42264600e+00  3.27000000e+02\n",
            "   1.27000000e+02  3.37329422e+02  3.28068592e-01]\n",
            " [-1.76400000e+00  1.17900000e+01  5.17583200e+00  1.79000000e+02\n",
            "   8.80000000e+01  2.26828800e+02  2.90000000e-01]\n",
            " [-1.90900000e+00  5.34000000e+00  4.25353400e+00  2.59000000e+02\n",
            "   1.80000000e+02  4.38432602e+02  2.17868339e-01]] [[-1.3e-05  3.6e-02  1.5e-01]\n",
            " [-3.3e-06  1.1e-02  2.9e+01]\n",
            " [-1.7e-06  6.9e-03  7.3e+00]\n",
            " [-4.2e-06  1.2e-02  8.1e+00]\n",
            " [-2.6e-05  8.7e-02 -1.6e+00]\n",
            " [-6.4e-06  1.2e-02  2.9e-01]\n",
            " [ 3.6e-06  4.6e-03  1.6e+00]\n",
            " [ 2.7e-06 -1.4e-02  5.3e+01]\n",
            " [-1.2e-04  2.0e-01 -4.0e+01]]\n"
          ],
          "name": "stdout"
        }
      ]
    },
    {
      "cell_type": "code",
      "metadata": {
        "colab": {
          "base_uri": "https://localhost:8080/"
        },
        "id": "b6H9dkX1gssh",
        "outputId": "d3900f14-6608-4d4a-d251-5be4178e846a"
      },
      "source": [
        "X_train, X_test, y_train, y_test=train_test_split(X, y, test_size=0.3,random_state=None)\n",
        "print(y_test)"
      ],
      "execution_count": null,
      "outputs": [
        {
          "output_type": "stream",
          "text": [
            "[[ 2.7e-06 -1.4e-02  5.3e+01]\n",
            " [-6.4e-06  1.2e-02  2.9e-01]\n",
            " [-2.6e-05  8.7e-02 -1.6e+00]]\n"
          ],
          "name": "stdout"
        }
      ]
    },
    {
      "cell_type": "code",
      "metadata": {
        "colab": {
          "base_uri": "https://localhost:8080/"
        },
        "id": "j1Od5cj6kiUL",
        "outputId": "32bb87ff-01ca-4c9d-937f-a9a0b1e5d376"
      },
      "source": [
        "model=Sequential()\n",
        "#, kernel_regularizer=l2(0.07)\n",
        "model.add(Dense(100, activation='relu', input_dim=7, name='Input_Layer'))\n",
        "model.add(BatchNormalization(name='1st_Normalization_Layer'))\n",
        "model.add(Dense(100, activation='relu', name='1st_Hidden_Layer'))\n",
        "model.add(BatchNormalization(name='2nd_Normalization_Layer'))\n",
        "model.add(Dense(3))\n",
        "#model summary\n",
        "model.summary()"
      ],
      "execution_count": null,
      "outputs": [
        {
          "output_type": "stream",
          "text": [
            "Model: \"sequential_14\"\n",
            "_________________________________________________________________\n",
            "Layer (type)                 Output Shape              Param #   \n",
            "=================================================================\n",
            "Input_Layer (Dense)          (None, 100)               800       \n",
            "_________________________________________________________________\n",
            "1st_Normalization_Layer (Bat (None, 100)               400       \n",
            "_________________________________________________________________\n",
            "1st_Hidden_Layer (Dense)     (None, 100)               10100     \n",
            "_________________________________________________________________\n",
            "2nd_Normalization_Layer (Bat (None, 100)               400       \n",
            "_________________________________________________________________\n",
            "dense_12 (Dense)             (None, 3)                 303       \n",
            "=================================================================\n",
            "Total params: 12,003\n",
            "Trainable params: 11,603\n",
            "Non-trainable params: 400\n",
            "_________________________________________________________________\n"
          ],
          "name": "stdout"
        }
      ]
    },
    {
      "cell_type": "code",
      "metadata": {
        "colab": {
          "base_uri": "https://localhost:8080/"
        },
        "id": "4ByKOcZ2llGk",
        "outputId": "26288e06-edea-40a7-b58b-8ecb594aa487"
      },
      "source": [
        "#compiling\n",
        "adam=optimizers.Adam(lr=0.0001)\n",
        "model.compile(optimizer=adam, loss='mean_squared_error', metrics=['accuracy'])\n"
      ],
      "execution_count": null,
      "outputs": [
        {
          "output_type": "stream",
          "text": [
            "/usr/local/lib/python3.7/dist-packages/tensorflow/python/keras/optimizer_v2/optimizer_v2.py:375: UserWarning: The `lr` argument is deprecated, use `learning_rate` instead.\n",
            "  \"The `lr` argument is deprecated, use `learning_rate` instead.\")\n"
          ],
          "name": "stderr"
        }
      ]
    },
    {
      "cell_type": "code",
      "metadata": {
        "id": "hXxTUFyzl61u",
        "colab": {
          "base_uri": "https://localhost:8080/"
        },
        "outputId": "78e8b113-9e51-48ec-f066-f273759c57e2"
      },
      "source": [
        "#callback for self-validation will stop training after val_score stops improving for two successive epochs\n",
        "#early_stopping_monitor=EarlyStopping(patience=10)\n",
        "\n",
        "#fitting\n",
        "\n",
        "model_training=model.fit(X_train,y_train, epochs=150, batch_size=10, validation_data=(X_test, y_test))"
      ],
      "execution_count": null,
      "outputs": [
        {
          "output_type": "stream",
          "text": [
            "Epoch 1/150\n",
            "1/1 [==============================] - 2s 2s/step - loss: 150.6529 - accuracy: 0.3333 - val_loss: 316.8567 - val_accuracy: 0.6667\n",
            "Epoch 2/150\n",
            "1/1 [==============================] - 0s 28ms/step - loss: 149.7838 - accuracy: 0.3333 - val_loss: 296.8959 - val_accuracy: 0.6667\n",
            "Epoch 3/150\n",
            "1/1 [==============================] - 0s 27ms/step - loss: 148.9030 - accuracy: 0.3333 - val_loss: 292.6153 - val_accuracy: 0.6667\n",
            "Epoch 4/150\n",
            "1/1 [==============================] - 0s 27ms/step - loss: 147.7199 - accuracy: 0.3333 - val_loss: 291.3634 - val_accuracy: 0.6667\n",
            "Epoch 5/150\n",
            "1/1 [==============================] - 0s 33ms/step - loss: 145.4400 - accuracy: 0.5000 - val_loss: 291.3350 - val_accuracy: 0.6667\n",
            "Epoch 6/150\n",
            "1/1 [==============================] - 0s 31ms/step - loss: 143.0443 - accuracy: 0.3333 - val_loss: 291.7798 - val_accuracy: 0.6667\n",
            "Epoch 7/150\n",
            "1/1 [==============================] - 0s 30ms/step - loss: 142.5213 - accuracy: 0.3333 - val_loss: 292.2756 - val_accuracy: 0.6667\n",
            "Epoch 8/150\n",
            "1/1 [==============================] - 0s 24ms/step - loss: 141.9929 - accuracy: 0.3333 - val_loss: 292.7769 - val_accuracy: 0.6667\n",
            "Epoch 9/150\n",
            "1/1 [==============================] - 0s 27ms/step - loss: 141.4635 - accuracy: 0.3333 - val_loss: 293.2321 - val_accuracy: 0.6667\n",
            "Epoch 10/150\n",
            "1/1 [==============================] - 0s 26ms/step - loss: 140.9361 - accuracy: 0.3333 - val_loss: 293.6779 - val_accuracy: 0.6667\n",
            "Epoch 11/150\n",
            "1/1 [==============================] - 0s 27ms/step - loss: 140.4201 - accuracy: 0.3333 - val_loss: 294.1164 - val_accuracy: 0.6667\n",
            "Epoch 12/150\n",
            "1/1 [==============================] - 0s 29ms/step - loss: 139.9350 - accuracy: 0.3333 - val_loss: 294.5094 - val_accuracy: 0.6667\n",
            "Epoch 13/150\n",
            "1/1 [==============================] - 0s 31ms/step - loss: 139.4444 - accuracy: 0.3333 - val_loss: 294.8591 - val_accuracy: 0.6667\n",
            "Epoch 14/150\n",
            "1/1 [==============================] - 0s 32ms/step - loss: 138.9532 - accuracy: 0.3333 - val_loss: 295.2006 - val_accuracy: 0.6667\n",
            "Epoch 15/150\n",
            "1/1 [==============================] - 0s 33ms/step - loss: 138.4692 - accuracy: 0.3333 - val_loss: 295.5319 - val_accuracy: 0.6667\n",
            "Epoch 16/150\n",
            "1/1 [==============================] - 0s 28ms/step - loss: 138.0070 - accuracy: 0.3333 - val_loss: 295.8527 - val_accuracy: 0.6667\n",
            "Epoch 17/150\n",
            "1/1 [==============================] - 0s 36ms/step - loss: 137.6303 - accuracy: 0.3333 - val_loss: 296.1838 - val_accuracy: 0.6667\n",
            "Epoch 18/150\n",
            "1/1 [==============================] - 0s 31ms/step - loss: 137.2561 - accuracy: 0.3333 - val_loss: 296.5025 - val_accuracy: 0.6667\n",
            "Epoch 19/150\n",
            "1/1 [==============================] - 0s 27ms/step - loss: 136.8827 - accuracy: 0.3333 - val_loss: 296.8105 - val_accuracy: 0.6667\n",
            "Epoch 20/150\n",
            "1/1 [==============================] - 0s 32ms/step - loss: 136.5072 - accuracy: 0.3333 - val_loss: 297.1080 - val_accuracy: 0.6667\n",
            "Epoch 21/150\n",
            "1/1 [==============================] - 0s 33ms/step - loss: 136.1311 - accuracy: 0.3333 - val_loss: 297.3946 - val_accuracy: 0.6667\n",
            "Epoch 22/150\n",
            "1/1 [==============================] - 0s 28ms/step - loss: 135.7548 - accuracy: 0.3333 - val_loss: 297.6786 - val_accuracy: 0.6667\n",
            "Epoch 23/150\n",
            "1/1 [==============================] - 0s 38ms/step - loss: 135.3780 - accuracy: 0.3333 - val_loss: 297.9543 - val_accuracy: 0.6667\n",
            "Epoch 24/150\n",
            "1/1 [==============================] - 0s 32ms/step - loss: 135.0016 - accuracy: 0.3333 - val_loss: 298.2330 - val_accuracy: 0.6667\n",
            "Epoch 25/150\n",
            "1/1 [==============================] - 0s 30ms/step - loss: 134.6268 - accuracy: 0.3333 - val_loss: 298.5107 - val_accuracy: 0.6667\n",
            "Epoch 26/150\n",
            "1/1 [==============================] - 0s 28ms/step - loss: 134.2533 - accuracy: 0.3333 - val_loss: 298.7768 - val_accuracy: 0.6667\n",
            "Epoch 27/150\n",
            "1/1 [==============================] - 0s 34ms/step - loss: 133.8835 - accuracy: 0.3333 - val_loss: 299.0332 - val_accuracy: 0.6667\n",
            "Epoch 28/150\n",
            "1/1 [==============================] - 0s 30ms/step - loss: 133.5093 - accuracy: 0.3333 - val_loss: 299.2818 - val_accuracy: 0.6667\n",
            "Epoch 29/150\n",
            "1/1 [==============================] - 0s 27ms/step - loss: 133.1324 - accuracy: 0.3333 - val_loss: 299.5304 - val_accuracy: 0.6667\n",
            "Epoch 30/150\n",
            "1/1 [==============================] - 0s 26ms/step - loss: 132.7576 - accuracy: 0.3333 - val_loss: 299.7560 - val_accuracy: 0.6667\n",
            "Epoch 31/150\n",
            "1/1 [==============================] - 0s 27ms/step - loss: 132.3847 - accuracy: 0.3333 - val_loss: 299.9688 - val_accuracy: 0.6667\n",
            "Epoch 32/150\n",
            "1/1 [==============================] - 0s 33ms/step - loss: 132.0109 - accuracy: 0.3333 - val_loss: 300.1702 - val_accuracy: 0.6667\n",
            "Epoch 33/150\n",
            "1/1 [==============================] - 0s 26ms/step - loss: 131.6369 - accuracy: 0.5000 - val_loss: 300.3588 - val_accuracy: 0.6667\n",
            "Epoch 34/150\n",
            "1/1 [==============================] - 0s 28ms/step - loss: 131.2663 - accuracy: 0.5000 - val_loss: 300.5352 - val_accuracy: 0.6667\n",
            "Epoch 35/150\n",
            "1/1 [==============================] - 0s 26ms/step - loss: 130.8938 - accuracy: 0.5000 - val_loss: 300.7025 - val_accuracy: 0.6667\n",
            "Epoch 36/150\n",
            "1/1 [==============================] - 0s 25ms/step - loss: 130.5207 - accuracy: 0.5000 - val_loss: 300.8618 - val_accuracy: 0.6667\n",
            "Epoch 37/150\n",
            "1/1 [==============================] - 0s 30ms/step - loss: 130.1457 - accuracy: 0.5000 - val_loss: 301.0140 - val_accuracy: 0.6667\n",
            "Epoch 38/150\n",
            "1/1 [==============================] - 0s 30ms/step - loss: 129.7689 - accuracy: 0.5000 - val_loss: 301.1654 - val_accuracy: 0.6667\n",
            "Epoch 39/150\n",
            "1/1 [==============================] - 0s 30ms/step - loss: 129.3909 - accuracy: 0.5000 - val_loss: 301.3138 - val_accuracy: 0.6667\n",
            "Epoch 40/150\n",
            "1/1 [==============================] - 0s 42ms/step - loss: 129.0107 - accuracy: 0.5000 - val_loss: 301.4589 - val_accuracy: 0.6667\n",
            "Epoch 41/150\n",
            "1/1 [==============================] - 0s 35ms/step - loss: 128.6352 - accuracy: 0.5000 - val_loss: 301.5970 - val_accuracy: 0.6667\n",
            "Epoch 42/150\n",
            "1/1 [==============================] - 0s 31ms/step - loss: 128.2528 - accuracy: 0.5000 - val_loss: 301.7127 - val_accuracy: 0.6667\n",
            "Epoch 43/150\n",
            "1/1 [==============================] - 0s 28ms/step - loss: 127.8647 - accuracy: 0.5000 - val_loss: 301.8348 - val_accuracy: 0.6667\n",
            "Epoch 44/150\n",
            "1/1 [==============================] - 0s 30ms/step - loss: 127.4786 - accuracy: 0.5000 - val_loss: 301.9591 - val_accuracy: 0.6667\n",
            "Epoch 45/150\n",
            "1/1 [==============================] - 0s 30ms/step - loss: 127.0914 - accuracy: 0.5000 - val_loss: 302.0828 - val_accuracy: 0.6667\n",
            "Epoch 46/150\n",
            "1/1 [==============================] - 0s 33ms/step - loss: 126.7029 - accuracy: 0.5000 - val_loss: 302.2035 - val_accuracy: 0.6667\n",
            "Epoch 47/150\n",
            "1/1 [==============================] - 0s 28ms/step - loss: 126.3111 - accuracy: 0.5000 - val_loss: 302.3204 - val_accuracy: 0.6667\n",
            "Epoch 48/150\n",
            "1/1 [==============================] - 0s 28ms/step - loss: 125.9332 - accuracy: 0.5000 - val_loss: 302.4315 - val_accuracy: 0.6667\n",
            "Epoch 49/150\n",
            "1/1 [==============================] - 0s 32ms/step - loss: 125.5550 - accuracy: 0.5000 - val_loss: 302.5374 - val_accuracy: 0.6667\n",
            "Epoch 50/150\n",
            "1/1 [==============================] - 0s 29ms/step - loss: 125.1730 - accuracy: 0.5000 - val_loss: 302.6425 - val_accuracy: 0.6667\n",
            "Epoch 51/150\n",
            "1/1 [==============================] - 0s 27ms/step - loss: 124.7912 - accuracy: 0.5000 - val_loss: 302.7491 - val_accuracy: 0.6667\n",
            "Epoch 52/150\n",
            "1/1 [==============================] - 0s 28ms/step - loss: 124.4050 - accuracy: 0.5000 - val_loss: 302.8568 - val_accuracy: 0.6667\n",
            "Epoch 53/150\n",
            "1/1 [==============================] - 0s 39ms/step - loss: 124.0207 - accuracy: 0.5000 - val_loss: 302.9738 - val_accuracy: 0.6667\n",
            "Epoch 54/150\n",
            "1/1 [==============================] - 0s 29ms/step - loss: 123.6343 - accuracy: 0.5000 - val_loss: 303.0985 - val_accuracy: 0.6667\n",
            "Epoch 55/150\n",
            "1/1 [==============================] - 0s 29ms/step - loss: 123.2355 - accuracy: 0.5000 - val_loss: 303.2306 - val_accuracy: 0.6667\n",
            "Epoch 56/150\n",
            "1/1 [==============================] - 0s 27ms/step - loss: 122.8264 - accuracy: 0.5000 - val_loss: 303.3690 - val_accuracy: 0.6667\n",
            "Epoch 57/150\n",
            "1/1 [==============================] - 0s 35ms/step - loss: 122.4136 - accuracy: 0.6667 - val_loss: 303.5035 - val_accuracy: 0.6667\n",
            "Epoch 58/150\n",
            "1/1 [==============================] - 0s 29ms/step - loss: 121.9862 - accuracy: 0.6667 - val_loss: 303.6370 - val_accuracy: 0.6667\n",
            "Epoch 59/150\n",
            "1/1 [==============================] - 0s 27ms/step - loss: 121.5456 - accuracy: 0.6667 - val_loss: 303.7614 - val_accuracy: 0.6667\n",
            "Epoch 60/150\n",
            "1/1 [==============================] - 0s 34ms/step - loss: 121.0953 - accuracy: 0.6667 - val_loss: 303.8644 - val_accuracy: 0.6667\n",
            "Epoch 61/150\n",
            "1/1 [==============================] - 0s 35ms/step - loss: 120.6503 - accuracy: 0.6667 - val_loss: 303.9680 - val_accuracy: 0.6667\n",
            "Epoch 62/150\n",
            "1/1 [==============================] - 0s 28ms/step - loss: 120.2041 - accuracy: 0.6667 - val_loss: 304.0703 - val_accuracy: 0.6667\n",
            "Epoch 63/150\n",
            "1/1 [==============================] - 0s 27ms/step - loss: 119.7522 - accuracy: 0.6667 - val_loss: 304.1703 - val_accuracy: 0.6667\n",
            "Epoch 64/150\n",
            "1/1 [==============================] - 0s 29ms/step - loss: 119.2953 - accuracy: 0.6667 - val_loss: 304.2704 - val_accuracy: 0.6667\n",
            "Epoch 65/150\n",
            "1/1 [==============================] - 0s 31ms/step - loss: 118.8862 - accuracy: 0.6667 - val_loss: 304.3729 - val_accuracy: 0.6667\n",
            "Epoch 66/150\n",
            "1/1 [==============================] - 0s 29ms/step - loss: 118.4740 - accuracy: 0.6667 - val_loss: 304.4757 - val_accuracy: 0.6667\n",
            "Epoch 67/150\n",
            "1/1 [==============================] - 0s 28ms/step - loss: 118.0555 - accuracy: 0.6667 - val_loss: 304.5867 - val_accuracy: 0.6667\n",
            "Epoch 68/150\n",
            "1/1 [==============================] - 0s 27ms/step - loss: 117.6339 - accuracy: 0.6667 - val_loss: 304.7036 - val_accuracy: 0.6667\n",
            "Epoch 69/150\n",
            "1/1 [==============================] - 0s 26ms/step - loss: 117.2511 - accuracy: 0.6667 - val_loss: 304.8289 - val_accuracy: 0.6667\n",
            "Epoch 70/150\n",
            "1/1 [==============================] - 0s 44ms/step - loss: 116.8755 - accuracy: 0.6667 - val_loss: 304.9545 - val_accuracy: 0.6667\n",
            "Epoch 71/150\n",
            "1/1 [==============================] - 0s 27ms/step - loss: 116.5002 - accuracy: 0.6667 - val_loss: 305.0791 - val_accuracy: 0.6667\n",
            "Epoch 72/150\n",
            "1/1 [==============================] - 0s 27ms/step - loss: 116.1597 - accuracy: 0.6667 - val_loss: 305.2007 - val_accuracy: 0.6667\n",
            "Epoch 73/150\n",
            "1/1 [==============================] - 0s 30ms/step - loss: 115.8379 - accuracy: 0.6667 - val_loss: 305.3302 - val_accuracy: 0.6667\n",
            "Epoch 74/150\n",
            "1/1 [==============================] - 0s 33ms/step - loss: 115.5068 - accuracy: 0.5000 - val_loss: 305.4614 - val_accuracy: 0.6667\n",
            "Epoch 75/150\n",
            "1/1 [==============================] - 0s 33ms/step - loss: 115.1646 - accuracy: 0.5000 - val_loss: 305.5887 - val_accuracy: 0.6667\n",
            "Epoch 76/150\n",
            "1/1 [==============================] - 0s 29ms/step - loss: 114.8241 - accuracy: 0.5000 - val_loss: 305.7099 - val_accuracy: 0.6667\n",
            "Epoch 77/150\n",
            "1/1 [==============================] - 0s 31ms/step - loss: 114.4831 - accuracy: 0.6667 - val_loss: 305.8407 - val_accuracy: 0.6667\n",
            "Epoch 78/150\n",
            "1/1 [==============================] - 0s 34ms/step - loss: 114.1380 - accuracy: 0.6667 - val_loss: 305.9680 - val_accuracy: 0.6667\n",
            "Epoch 79/150\n",
            "1/1 [==============================] - 0s 32ms/step - loss: 113.7977 - accuracy: 0.6667 - val_loss: 306.0821 - val_accuracy: 0.6667\n",
            "Epoch 80/150\n",
            "1/1 [==============================] - 0s 28ms/step - loss: 113.4541 - accuracy: 0.6667 - val_loss: 306.1848 - val_accuracy: 0.6667\n",
            "Epoch 81/150\n",
            "1/1 [==============================] - 0s 30ms/step - loss: 113.1110 - accuracy: 0.6667 - val_loss: 306.2854 - val_accuracy: 0.6667\n",
            "Epoch 82/150\n",
            "1/1 [==============================] - 0s 40ms/step - loss: 112.7651 - accuracy: 0.6667 - val_loss: 306.3838 - val_accuracy: 0.6667\n",
            "Epoch 83/150\n",
            "1/1 [==============================] - 0s 31ms/step - loss: 112.4128 - accuracy: 0.6667 - val_loss: 306.4796 - val_accuracy: 0.6667\n",
            "Epoch 84/150\n",
            "1/1 [==============================] - 0s 33ms/step - loss: 112.0582 - accuracy: 0.6667 - val_loss: 306.5756 - val_accuracy: 0.6667\n",
            "Epoch 85/150\n",
            "1/1 [==============================] - 0s 30ms/step - loss: 111.6988 - accuracy: 0.6667 - val_loss: 306.6944 - val_accuracy: 0.6667\n",
            "Epoch 86/150\n",
            "1/1 [==============================] - 0s 29ms/step - loss: 111.3265 - accuracy: 0.6667 - val_loss: 306.8119 - val_accuracy: 0.6667\n",
            "Epoch 87/150\n",
            "1/1 [==============================] - 0s 28ms/step - loss: 110.9949 - accuracy: 0.6667 - val_loss: 306.9227 - val_accuracy: 0.6667\n",
            "Epoch 88/150\n",
            "1/1 [==============================] - 0s 29ms/step - loss: 110.7155 - accuracy: 0.6667 - val_loss: 307.0295 - val_accuracy: 0.6667\n",
            "Epoch 89/150\n",
            "1/1 [==============================] - 0s 30ms/step - loss: 110.4324 - accuracy: 0.5000 - val_loss: 307.1316 - val_accuracy: 0.6667\n",
            "Epoch 90/150\n",
            "1/1 [==============================] - 0s 30ms/step - loss: 110.1604 - accuracy: 0.5000 - val_loss: 307.2494 - val_accuracy: 0.6667\n",
            "Epoch 91/150\n",
            "1/1 [==============================] - 0s 35ms/step - loss: 109.8901 - accuracy: 0.5000 - val_loss: 307.4158 - val_accuracy: 0.6667\n",
            "Epoch 92/150\n",
            "1/1 [==============================] - 0s 37ms/step - loss: 109.6230 - accuracy: 0.5000 - val_loss: 307.5786 - val_accuracy: 0.6667\n",
            "Epoch 93/150\n",
            "1/1 [==============================] - 0s 32ms/step - loss: 109.3402 - accuracy: 0.5000 - val_loss: 307.7357 - val_accuracy: 0.6667\n",
            "Epoch 94/150\n",
            "1/1 [==============================] - 0s 32ms/step - loss: 109.0733 - accuracy: 0.5000 - val_loss: 307.8880 - val_accuracy: 0.6667\n",
            "Epoch 95/150\n",
            "1/1 [==============================] - 0s 32ms/step - loss: 108.8112 - accuracy: 0.5000 - val_loss: 308.0431 - val_accuracy: 0.6667\n",
            "Epoch 96/150\n",
            "1/1 [==============================] - 0s 31ms/step - loss: 108.5431 - accuracy: 0.5000 - val_loss: 308.2007 - val_accuracy: 0.6667\n",
            "Epoch 97/150\n",
            "1/1 [==============================] - 0s 36ms/step - loss: 108.2746 - accuracy: 0.5000 - val_loss: 308.3620 - val_accuracy: 0.6667\n",
            "Epoch 98/150\n",
            "1/1 [==============================] - 0s 32ms/step - loss: 108.0066 - accuracy: 0.5000 - val_loss: 308.5183 - val_accuracy: 0.6667\n",
            "Epoch 99/150\n",
            "1/1 [==============================] - 0s 33ms/step - loss: 107.7408 - accuracy: 0.5000 - val_loss: 308.6692 - val_accuracy: 0.6667\n",
            "Epoch 100/150\n",
            "1/1 [==============================] - 0s 35ms/step - loss: 107.4914 - accuracy: 0.5000 - val_loss: 308.8124 - val_accuracy: 0.6667\n",
            "Epoch 101/150\n",
            "1/1 [==============================] - 0s 28ms/step - loss: 107.2447 - accuracy: 0.5000 - val_loss: 308.9482 - val_accuracy: 0.6667\n",
            "Epoch 102/150\n",
            "1/1 [==============================] - 0s 29ms/step - loss: 106.9999 - accuracy: 0.5000 - val_loss: 309.0758 - val_accuracy: 0.6667\n",
            "Epoch 103/150\n",
            "1/1 [==============================] - 0s 33ms/step - loss: 106.7511 - accuracy: 0.5000 - val_loss: 309.1942 - val_accuracy: 0.6667\n",
            "Epoch 104/150\n",
            "1/1 [==============================] - 0s 33ms/step - loss: 106.5017 - accuracy: 0.5000 - val_loss: 309.3165 - val_accuracy: 0.6667\n",
            "Epoch 105/150\n",
            "1/1 [==============================] - 0s 25ms/step - loss: 106.2554 - accuracy: 0.5000 - val_loss: 309.4453 - val_accuracy: 0.6667\n",
            "Epoch 106/150\n",
            "1/1 [==============================] - 0s 33ms/step - loss: 106.0089 - accuracy: 0.5000 - val_loss: 309.5827 - val_accuracy: 0.6667\n",
            "Epoch 107/150\n",
            "1/1 [==============================] - 0s 29ms/step - loss: 105.7616 - accuracy: 0.5000 - val_loss: 309.7419 - val_accuracy: 0.6667\n",
            "Epoch 108/150\n",
            "1/1 [==============================] - 0s 37ms/step - loss: 105.5175 - accuracy: 0.5000 - val_loss: 309.8986 - val_accuracy: 0.6667\n",
            "Epoch 109/150\n",
            "1/1 [==============================] - 0s 30ms/step - loss: 105.2809 - accuracy: 0.5000 - val_loss: 310.0498 - val_accuracy: 0.6667\n",
            "Epoch 110/150\n",
            "1/1 [==============================] - 0s 34ms/step - loss: 105.0486 - accuracy: 0.5000 - val_loss: 310.1706 - val_accuracy: 0.6667\n",
            "Epoch 111/150\n",
            "1/1 [==============================] - 0s 31ms/step - loss: 104.8179 - accuracy: 0.5000 - val_loss: 310.2765 - val_accuracy: 0.6667\n",
            "Epoch 112/150\n",
            "1/1 [==============================] - 0s 28ms/step - loss: 104.5859 - accuracy: 0.5000 - val_loss: 310.3591 - val_accuracy: 0.6667\n",
            "Epoch 113/150\n",
            "1/1 [==============================] - 0s 31ms/step - loss: 104.3512 - accuracy: 0.5000 - val_loss: 310.4248 - val_accuracy: 0.6667\n",
            "Epoch 114/150\n",
            "1/1 [==============================] - 0s 40ms/step - loss: 104.1149 - accuracy: 0.5000 - val_loss: 310.4953 - val_accuracy: 0.6667\n",
            "Epoch 115/150\n",
            "1/1 [==============================] - 0s 50ms/step - loss: 103.8758 - accuracy: 0.5000 - val_loss: 310.5608 - val_accuracy: 0.6667\n",
            "Epoch 116/150\n",
            "1/1 [==============================] - 0s 34ms/step - loss: 103.6342 - accuracy: 0.5000 - val_loss: 310.6231 - val_accuracy: 0.6667\n",
            "Epoch 117/150\n",
            "1/1 [==============================] - 0s 31ms/step - loss: 103.3883 - accuracy: 0.5000 - val_loss: 310.6704 - val_accuracy: 0.6667\n",
            "Epoch 118/150\n",
            "1/1 [==============================] - 0s 33ms/step - loss: 103.1412 - accuracy: 0.5000 - val_loss: 310.7142 - val_accuracy: 0.6667\n",
            "Epoch 119/150\n",
            "1/1 [==============================] - 0s 35ms/step - loss: 102.8941 - accuracy: 0.5000 - val_loss: 310.7528 - val_accuracy: 0.6667\n",
            "Epoch 120/150\n",
            "1/1 [==============================] - 0s 28ms/step - loss: 102.6444 - accuracy: 0.5000 - val_loss: 310.7806 - val_accuracy: 0.6667\n",
            "Epoch 121/150\n",
            "1/1 [==============================] - 0s 43ms/step - loss: 102.3955 - accuracy: 0.5000 - val_loss: 310.8001 - val_accuracy: 0.6667\n",
            "Epoch 122/150\n",
            "1/1 [==============================] - 0s 35ms/step - loss: 102.1456 - accuracy: 0.5000 - val_loss: 310.8151 - val_accuracy: 0.6667\n",
            "Epoch 123/150\n",
            "1/1 [==============================] - 0s 42ms/step - loss: 101.8962 - accuracy: 0.5000 - val_loss: 310.8366 - val_accuracy: 0.6667\n",
            "Epoch 124/150\n",
            "1/1 [==============================] - 0s 31ms/step - loss: 101.6453 - accuracy: 0.5000 - val_loss: 310.8997 - val_accuracy: 0.6667\n",
            "Epoch 125/150\n",
            "1/1 [==============================] - 0s 36ms/step - loss: 101.3945 - accuracy: 0.5000 - val_loss: 310.9770 - val_accuracy: 0.6667\n",
            "Epoch 126/150\n",
            "1/1 [==============================] - 0s 28ms/step - loss: 101.1436 - accuracy: 0.5000 - val_loss: 311.0553 - val_accuracy: 0.6667\n",
            "Epoch 127/150\n",
            "1/1 [==============================] - 0s 38ms/step - loss: 100.8928 - accuracy: 0.5000 - val_loss: 311.1262 - val_accuracy: 0.6667\n",
            "Epoch 128/150\n",
            "1/1 [==============================] - 0s 34ms/step - loss: 100.6418 - accuracy: 0.5000 - val_loss: 311.1979 - val_accuracy: 0.6667\n",
            "Epoch 129/150\n",
            "1/1 [==============================] - 0s 35ms/step - loss: 100.3778 - accuracy: 0.5000 - val_loss: 311.2550 - val_accuracy: 0.6667\n",
            "Epoch 130/150\n",
            "1/1 [==============================] - 0s 33ms/step - loss: 100.1123 - accuracy: 0.5000 - val_loss: 311.3066 - val_accuracy: 0.6667\n",
            "Epoch 131/150\n",
            "1/1 [==============================] - 0s 33ms/step - loss: 99.8463 - accuracy: 0.5000 - val_loss: 311.3188 - val_accuracy: 0.6667\n",
            "Epoch 132/150\n",
            "1/1 [==============================] - 0s 33ms/step - loss: 99.5854 - accuracy: 0.5000 - val_loss: 311.3225 - val_accuracy: 0.6667\n",
            "Epoch 133/150\n",
            "1/1 [==============================] - 0s 37ms/step - loss: 99.3320 - accuracy: 0.5000 - val_loss: 311.3169 - val_accuracy: 0.6667\n",
            "Epoch 134/150\n",
            "1/1 [==============================] - 0s 32ms/step - loss: 99.0861 - accuracy: 0.5000 - val_loss: 311.3031 - val_accuracy: 0.6667\n",
            "Epoch 135/150\n",
            "1/1 [==============================] - 0s 26ms/step - loss: 98.8454 - accuracy: 0.5000 - val_loss: 311.2635 - val_accuracy: 0.6667\n",
            "Epoch 136/150\n",
            "1/1 [==============================] - 0s 28ms/step - loss: 98.6085 - accuracy: 0.5000 - val_loss: 311.1870 - val_accuracy: 0.6667\n",
            "Epoch 137/150\n",
            "1/1 [==============================] - 0s 32ms/step - loss: 98.3797 - accuracy: 0.5000 - val_loss: 311.1191 - val_accuracy: 0.6667\n",
            "Epoch 138/150\n",
            "1/1 [==============================] - 0s 42ms/step - loss: 98.1558 - accuracy: 0.5000 - val_loss: 311.0532 - val_accuracy: 0.6667\n",
            "Epoch 139/150\n",
            "1/1 [==============================] - 0s 32ms/step - loss: 97.9392 - accuracy: 0.5000 - val_loss: 310.9640 - val_accuracy: 0.6667\n",
            "Epoch 140/150\n",
            "1/1 [==============================] - 0s 32ms/step - loss: 97.7259 - accuracy: 0.5000 - val_loss: 310.8444 - val_accuracy: 0.6667\n",
            "Epoch 141/150\n",
            "1/1 [==============================] - 0s 28ms/step - loss: 97.5187 - accuracy: 0.5000 - val_loss: 310.7058 - val_accuracy: 0.6667\n",
            "Epoch 142/150\n",
            "1/1 [==============================] - 0s 31ms/step - loss: 97.3154 - accuracy: 0.5000 - val_loss: 310.5667 - val_accuracy: 0.6667\n",
            "Epoch 143/150\n",
            "1/1 [==============================] - 0s 33ms/step - loss: 97.1176 - accuracy: 0.5000 - val_loss: 310.4250 - val_accuracy: 0.6667\n",
            "Epoch 144/150\n",
            "1/1 [==============================] - 0s 30ms/step - loss: 96.9199 - accuracy: 0.5000 - val_loss: 310.2779 - val_accuracy: 0.6667\n",
            "Epoch 145/150\n",
            "1/1 [==============================] - 0s 30ms/step - loss: 96.7255 - accuracy: 0.5000 - val_loss: 310.1271 - val_accuracy: 0.6667\n",
            "Epoch 146/150\n",
            "1/1 [==============================] - 0s 31ms/step - loss: 96.5338 - accuracy: 0.5000 - val_loss: 310.0088 - val_accuracy: 0.6667\n",
            "Epoch 147/150\n",
            "1/1 [==============================] - 0s 34ms/step - loss: 96.3466 - accuracy: 0.5000 - val_loss: 309.8902 - val_accuracy: 0.6667\n",
            "Epoch 148/150\n",
            "1/1 [==============================] - 0s 31ms/step - loss: 96.1562 - accuracy: 0.5000 - val_loss: 309.7715 - val_accuracy: 0.6667\n",
            "Epoch 149/150\n",
            "1/1 [==============================] - 0s 43ms/step - loss: 95.9620 - accuracy: 0.5000 - val_loss: 309.6525 - val_accuracy: 0.6667\n",
            "Epoch 150/150\n",
            "1/1 [==============================] - 0s 31ms/step - loss: 95.7674 - accuracy: 0.5000 - val_loss: 309.5319 - val_accuracy: 0.6667\n"
          ],
          "name": "stdout"
        }
      ]
    },
    {
      "cell_type": "code",
      "metadata": {
        "colab": {
          "base_uri": "https://localhost:8080/"
        },
        "id": "C4LuC9nWoh9i",
        "outputId": "abe3f67a-2d08-41f4-bd0b-50a8b2dbf06d"
      },
      "source": [
        "_, accuracy = model.evaluate(X, y)\n",
        "print('Accuracy: %.2f' % (accuracy*100))"
      ],
      "execution_count": null,
      "outputs": [
        {
          "output_type": "stream",
          "text": [
            "1/1 [==============================] - 0s 18ms/step - loss: 185.6075 - accuracy: 0.5556\n",
            "Accuracy: 55.56\n"
          ],
          "name": "stdout"
        }
      ]
    },
    {
      "cell_type": "code",
      "metadata": {
        "colab": {
          "base_uri": "https://localhost:8080/"
        },
        "id": "Lo1G3t6wo5bL",
        "outputId": "efcaa74b-2f3a-456a-8ad9-aef90ea16863"
      },
      "source": [
        "# make probability predictions with the model\n",
        "predictions = model.predict(X_test)\n",
        "print(y_test)\n",
        "print(predictions)"
      ],
      "execution_count": null,
      "outputs": [
        {
          "output_type": "stream",
          "text": [
            "[[ 2.7e-06 -1.4e-02  5.3e+01]\n",
            " [-6.4e-06  1.2e-02  2.9e-01]\n",
            " [-2.6e-05  8.7e-02 -1.6e+00]]\n",
            "[[-0.74569046 -0.0245251   0.34957066]\n",
            " [-0.63479203 -0.07109506  0.0433181 ]\n",
            " [ 2.159844   -1.3647999   0.832988  ]]\n"
          ],
          "name": "stdout"
        }
      ]
    }
  ]
}